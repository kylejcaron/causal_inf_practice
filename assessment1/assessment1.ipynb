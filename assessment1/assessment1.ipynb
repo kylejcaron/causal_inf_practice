{
 "cells": [
  {
   "cell_type": "markdown",
   "id": "9e6d1169",
   "metadata": {},
   "source": [
    "# Imports"
   ]
  },
  {
   "cell_type": "code",
   "execution_count": 8,
   "id": "3f33ec44",
   "metadata": {},
   "outputs": [],
   "source": [
    "import pandas as pd\n",
    "import numpy as np\n",
    "from pgmpy.models import BayesianModel\n",
    "from pgmpy.estimators import BayesianEstimator\n",
    "import networkx as nx\n",
    "import matplotlib.pyplot as plt\n",
    "import scipy.stats as stats\n",
    "import seaborn as sns"
   ]
  },
  {
   "cell_type": "code",
   "execution_count": 2,
   "id": "12e9f258",
   "metadata": {},
   "outputs": [
    {
     "data": {
      "text/html": [
       "<div>\n",
       "<style scoped>\n",
       "    .dataframe tbody tr th:only-of-type {\n",
       "        vertical-align: middle;\n",
       "    }\n",
       "\n",
       "    .dataframe tbody tr th {\n",
       "        vertical-align: top;\n",
       "    }\n",
       "\n",
       "    .dataframe thead th {\n",
       "        text-align: right;\n",
       "    }\n",
       "</style>\n",
       "<table border=\"1\" class=\"dataframe\">\n",
       "  <thead>\n",
       "    <tr style=\"text-align: right;\">\n",
       "      <th></th>\n",
       "      <th>A</th>\n",
       "      <th>S</th>\n",
       "      <th>E</th>\n",
       "      <th>O</th>\n",
       "      <th>R</th>\n",
       "      <th>T</th>\n",
       "    </tr>\n",
       "  </thead>\n",
       "  <tbody>\n",
       "    <tr>\n",
       "      <th>0</th>\n",
       "      <td>adult</td>\n",
       "      <td>F</td>\n",
       "      <td>high</td>\n",
       "      <td>emp</td>\n",
       "      <td>small</td>\n",
       "      <td>train</td>\n",
       "    </tr>\n",
       "    <tr>\n",
       "      <th>1</th>\n",
       "      <td>young</td>\n",
       "      <td>M</td>\n",
       "      <td>high</td>\n",
       "      <td>emp</td>\n",
       "      <td>big</td>\n",
       "      <td>car</td>\n",
       "    </tr>\n",
       "    <tr>\n",
       "      <th>2</th>\n",
       "      <td>adult</td>\n",
       "      <td>M</td>\n",
       "      <td>uni</td>\n",
       "      <td>emp</td>\n",
       "      <td>big</td>\n",
       "      <td>other</td>\n",
       "    </tr>\n",
       "    <tr>\n",
       "      <th>3</th>\n",
       "      <td>old</td>\n",
       "      <td>F</td>\n",
       "      <td>uni</td>\n",
       "      <td>emp</td>\n",
       "      <td>big</td>\n",
       "      <td>car</td>\n",
       "    </tr>\n",
       "    <tr>\n",
       "      <th>4</th>\n",
       "      <td>young</td>\n",
       "      <td>F</td>\n",
       "      <td>uni</td>\n",
       "      <td>emp</td>\n",
       "      <td>big</td>\n",
       "      <td>car</td>\n",
       "    </tr>\n",
       "    <tr>\n",
       "      <th>...</th>\n",
       "      <td>...</td>\n",
       "      <td>...</td>\n",
       "      <td>...</td>\n",
       "      <td>...</td>\n",
       "      <td>...</td>\n",
       "      <td>...</td>\n",
       "    </tr>\n",
       "    <tr>\n",
       "      <th>495</th>\n",
       "      <td>young</td>\n",
       "      <td>M</td>\n",
       "      <td>high</td>\n",
       "      <td>emp</td>\n",
       "      <td>big</td>\n",
       "      <td>other</td>\n",
       "    </tr>\n",
       "    <tr>\n",
       "      <th>496</th>\n",
       "      <td>adult</td>\n",
       "      <td>M</td>\n",
       "      <td>high</td>\n",
       "      <td>emp</td>\n",
       "      <td>big</td>\n",
       "      <td>car</td>\n",
       "    </tr>\n",
       "    <tr>\n",
       "      <th>497</th>\n",
       "      <td>young</td>\n",
       "      <td>M</td>\n",
       "      <td>high</td>\n",
       "      <td>emp</td>\n",
       "      <td>small</td>\n",
       "      <td>train</td>\n",
       "    </tr>\n",
       "    <tr>\n",
       "      <th>498</th>\n",
       "      <td>young</td>\n",
       "      <td>M</td>\n",
       "      <td>high</td>\n",
       "      <td>emp</td>\n",
       "      <td>small</td>\n",
       "      <td>car</td>\n",
       "    </tr>\n",
       "    <tr>\n",
       "      <th>499</th>\n",
       "      <td>adult</td>\n",
       "      <td>M</td>\n",
       "      <td>high</td>\n",
       "      <td>emp</td>\n",
       "      <td>small</td>\n",
       "      <td>other</td>\n",
       "    </tr>\n",
       "  </tbody>\n",
       "</table>\n",
       "<p>500 rows × 6 columns</p>\n",
       "</div>"
      ],
      "text/plain": [
       "         A  S     E    O      R      T\n",
       "0    adult  F  high  emp  small  train\n",
       "1    young  M  high  emp    big    car\n",
       "2    adult  M   uni  emp    big  other\n",
       "3      old  F   uni  emp    big    car\n",
       "4    young  F   uni  emp    big    car\n",
       "..     ... ..   ...  ...    ...    ...\n",
       "495  young  M  high  emp    big  other\n",
       "496  adult  M  high  emp    big    car\n",
       "497  young  M  high  emp  small  train\n",
       "498  young  M  high  emp  small    car\n",
       "499  adult  M  high  emp  small  other\n",
       "\n",
       "[500 rows x 6 columns]"
      ]
     },
     "execution_count": 2,
     "metadata": {},
     "output_type": "execute_result"
    }
   ],
   "source": [
    "df = pd.read_csv(\"https://raw.githubusercontent.com/altdeep/causalML/master/datasets/transportation_survey.csv\")\n",
    "df"
   ]
  },
  {
   "cell_type": "markdown",
   "id": "9ef84d05",
   "metadata": {},
   "source": [
    "# Specifying a DAG "
   ]
  },
  {
   "cell_type": "code",
   "execution_count": 3,
   "id": "706a243d",
   "metadata": {},
   "outputs": [
    {
     "name": "stderr",
     "output_type": "stream",
     "text": [
      "/Users/kylejcaron/.pyenv/versions/3.9.7/lib/python3.9/site-packages/pgmpy/models/BayesianModel.py:8: FutureWarning: BayesianModel has been renamed to BayesianNetwork. Please use BayesianNetwork class, BayesianModel will be removed in future.\n",
      "  warnings.warn(\n"
     ]
    },
    {
     "data": {
      "image/png": "[encoded data removed]",
      "text/plain": [
       "<Figure size 432x288 with 1 Axes>"
      ]
     },
     "metadata": {},
     "output_type": "display_data"
    }
   ],
   "source": [
    "# Specify Graph\n",
    "model = BayesianModel([\n",
    "    ('A', 'E'), \n",
    "    ('S', 'E'),\n",
    "    (\"E\", \"O\"),\n",
    "    (\"E\", \"R\"),\n",
    "    (\"O\", \"T\"),\n",
    "    (\"R\", \"T\")\n",
    "])\n",
    "\n",
    "# Plot\n",
    "pos = {\"S\":(2,5), \"A\":(4,5), \"E\":(3,4), \"O\":(2,3),\"R\":(4,3),\"T\":(3,2)}\n",
    "nx.draw(nx.DiGraph(model.edges()), pos=pos, with_labels=True)\n"
   ]
  },
  {
   "cell_type": "markdown",
   "id": "5406ad09",
   "metadata": {},
   "source": [
    "# Fitting a Model\n",
    "\n",
    "From the description:\n",
    "\n",
    "> Then, you will use a Bayesian inference technique to fit the parameter values of each conditional probability distribution using data"
   ]
  },
  {
   "cell_type": "code",
   "execution_count": 4,
   "id": "1b56248b",
   "metadata": {},
   "outputs": [
    {
     "name": "stdout",
     "output_type": "stream",
     "text": [
      "S\n",
      "---------------\n",
      "\n",
      "\n",
      "+------+----------+\n",
      "| S(F) | 0.521912 |\n",
      "+------+----------+\n",
      "| S(M) | 0.478088 |\n",
      "+------+----------+\n",
      "\n",
      "\n",
      "A\n",
      "---------------\n",
      "\n",
      "\n",
      "+----------+----------+\n",
      "| A(adult) | 0.387674 |\n",
      "+----------+----------+\n",
      "| A(old)   | 0.139165 |\n",
      "+----------+----------+\n",
      "| A(young) | 0.473161 |\n",
      "+----------+----------+\n",
      "\n",
      "\n",
      "O\n",
      "---------------\n",
      "\n",
      "\n",
      "+---------+---------------------+---------------------+\n",
      "| E       | E(high)             | E(uni)              |\n",
      "+---------+---------------------+---------------------+\n",
      "| O(emp)  | 0.9794520547945206  | 0.9716981132075472  |\n",
      "+---------+---------------------+---------------------+\n",
      "| O(self) | 0.02054794520547945 | 0.02830188679245283 |\n",
      "+---------+---------------------+---------------------+\n",
      "\n",
      "\n",
      "R\n",
      "---------------\n",
      "\n",
      "\n",
      "+----------+---------------------+--------------------+\n",
      "| E        | E(high)             | E(uni)             |\n",
      "+----------+---------------------+--------------------+\n",
      "| R(big)   | 0.7568493150684932  | 0.9339622641509434 |\n",
      "+----------+---------------------+--------------------+\n",
      "| R(small) | 0.24315068493150685 | 0.0660377358490566 |\n",
      "+----------+---------------------+--------------------+\n",
      "\n",
      "\n",
      "E\n",
      "---------------\n",
      "\n",
      "\n",
      "+---------+---------------------+-----+---------------------+\n",
      "| A       | A(adult)            | ... | A(young)            |\n",
      "+---------+---------------------+-----+---------------------+\n",
      "| S       | S(F)                | ... | S(M)                |\n",
      "+---------+---------------------+-----+---------------------+\n",
      "| E(high) | 0.5185185185185185  | ... | 0.7642276422764228  |\n",
      "+---------+---------------------+-----+---------------------+\n",
      "| E(uni)  | 0.48148148148148145 | ... | 0.23577235772357724 |\n",
      "+---------+---------------------+-----+---------------------+\n",
      "\n",
      "\n"
     ]
    }
   ],
   "source": [
    "# havent figured out how to export to a dataframe or show full table\n",
    "\n",
    "estimator = BayesianEstimator(model, df)\n",
    "\n",
    "cpd ={}\n",
    "for node in set(model.nodes) - set(\"T\"):\n",
    "    cpd[node] = estimator.estimate_cpd(\n",
    "        node, \n",
    "        prior_type=\"dirichlet\", \n",
    "        # prior concentration\n",
    "        pseudo_counts=1)\n",
    "    print(node)\n",
    "    print(\"---\"*5)\n",
    "    print(\"\\n\")\n",
    "    print(cpd[node])\n",
    "    print(\"\\n\")\n"
   ]
  },
  {
   "cell_type": "markdown",
   "id": "ac417b93",
   "metadata": {},
   "source": [
    "# Question 4:\n",
    "\n",
    "A categorical variable as three outcomes with probabilities p1, p2, and p3. You place a Dirichlet prior on these probabilities with concentration parameters 1, 1, and 1. In data with 20 observations you observe 10 instances of class 1, 2 instances of class 2, and 8 instances of class 3. What are the concentration parameters of the posterior.\n",
    "\n",
    "__Does updating priors with observed counts help converge to true values?__"
   ]
  },
  {
   "cell_type": "code",
   "execution_count": 5,
   "id": "ea80e4ed",
   "metadata": {},
   "outputs": [],
   "source": [
    "priors = np.ones(3)\n",
    "nsim = 1000"
   ]
  },
  {
   "cell_type": "code",
   "execution_count": 6,
   "id": "86461e31",
   "metadata": {},
   "outputs": [],
   "source": [
    "obs = np.array([10,2,8])\n",
    "\n",
    "# update priors with observed counts\n",
    "p = stats.dirichlet(priors + obs).rvs(nsim)\n",
    "\n",
    "# couldnt figure out vecotrized approach\n",
    "posterior = np.concatenate(\n",
    "    [stats.multinomial(20, p[i]).rvs() for i in range(len(p))]\n",
    ")"
   ]
  },
  {
   "cell_type": "code",
   "execution_count": 9,
   "id": "bd8cfb6e",
   "metadata": {
    "scrolled": true
   },
   "outputs": [
    {
     "data": {
      "text/plain": [
       "[<matplotlib.lines.Line2D at 0x12fa8de80>,\n",
       " <matplotlib.lines.Line2D at 0x12ed978e0>,\n",
       " <matplotlib.lines.Line2D at 0x12ee57070>]"
      ]
     },
     "execution_count": 9,
     "metadata": {},
     "output_type": "execute_result"
    },
    {
     "data": {
      "image/png": "[encoded data removed]",
      "text/plain": [
       "<Figure size 432x288 with 1 Axes>"
      ]
     },
     "metadata": {
      "needs_background": "light"
     },
     "output_type": "display_data"
    }
   ],
   "source": [
    "sns.histplot( posterior, stat=\"probability\" )\n",
    "\n",
    "[\n",
    "    plt.axvline(obs[i], color=f\"C{i}\", ls=\"--\", lw=5) \n",
    "    for i in range(len(obs))\n",
    "]"
   ]
  },
  {
   "cell_type": "markdown",
   "id": "89a024b4",
   "metadata": {},
   "source": [
    "It looks like concentration priors, \n",
    "$$\n",
    "\\alpha=\\left[ 1,1,1 \\right]\n",
    "$$ \n",
    "\n",
    "simply get updated with the observed counts, \n",
    "\n",
    "$$\n",
    "y=\\left[ 10,2,8 \\right]\n",
    "$$\n",
    "\n",
    "to become \n",
    "\n",
    "$$\\alpha_{post} = \\alpha + y =\\left[ 1+10,1+2,1+8 \\right]\n",
    "$$ "
   ]
  },
  {
   "cell_type": "code",
   "execution_count": null,
   "id": "676ee7fb",
   "metadata": {},
   "outputs": [],
   "source": []
  }
 ],
 "metadata": {
  "kernelspec": {
   "display_name": "Python 3 (ipykernel)",
   "language": "python",
   "name": "python3"
  },
  "language_info": {
   "codemirror_mode": {
    "name": "ipython",
    "version": 3
   },
   "file_extension": ".py",
   "mimetype": "text/x-python",
   "name": "python",
   "nbconvert_exporter": "python",
   "pygments_lexer": "ipython3",
   "version": "3.9.7"
  }
 },
 "nbformat": 4,
 "nbformat_minor": 5
}
